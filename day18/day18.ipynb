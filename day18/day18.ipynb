{
 "cells": [
  {
   "cell_type": "markdown",
   "metadata": {},
   "source": [
    "#lEVEl 1"
   ]
  },
  {
   "cell_type": "code",
   "execution_count": 42,
   "metadata": {},
   "outputs": [
    {
     "name": "stdout",
     "output_type": "stream",
     "text": [
      "Most frequent word: love\n"
     ]
    }
   ],
   "source": [
    "import re\n",
    "\n",
    "def most_frequent_word(paragraph):\n",
    "    \n",
    "    paragraph_lower = paragraph.lower()\n",
    "    \n",
    "    \n",
    "    words = re.findall(r'\\b\\w+\\b', paragraph_lower)\n",
    "    \n",
    "    \n",
    "    word_count = {}\n",
    "    for word in words:\n",
    "        if word in word_count:\n",
    "            word_count[word] += 1\n",
    "        else:\n",
    "            word_count[word] = 1\n",
    "    \n",
    "    \n",
    "    most_frequent = max(word_count, key=word_count.get)\n",
    "    \n",
    "    return most_frequent\n",
    "\n",
    "paragraph = 'I love teaching. If you do not love teaching what else can you love. I love Python if you do not love something which can give you all the capabilities to develop an application what else can you love.'\n",
    "\n",
    "most_frequent = most_frequent_word(paragraph)\n",
    "print(\"Most frequent word:\", most_frequent)\n"
   ]
  },
  {
   "cell_type": "code",
   "execution_count": 43,
   "metadata": {},
   "outputs": [
    {
     "name": "stdout",
     "output_type": "stream",
     "text": [
      "Furthest distance: 20\n"
     ]
    }
   ],
   "source": [
    "\n",
    "\n",
    "text = \"The position of some particles on the horizontal x-axis are -12, -4, -3 and -1 in the negative direction, 0 at origin, 4 and 8 in the positive direction.\"\n",
    "\n",
    "numbers = [int(match.group()) for match in re.finditer(r'-?\\d+', text)]\n",
    "\n",
    "\n",
    "furthest_distance = max(numbers) - min(numbers)\n",
    "\n",
    "print(\"Furthest distance:\", furthest_distance)\n"
   ]
  },
  {
   "cell_type": "markdown",
   "metadata": {},
   "source": [
    "#LEVEL 2"
   ]
  },
  {
   "cell_type": "code",
   "execution_count": 44,
   "metadata": {},
   "outputs": [
    {
     "name": "stdout",
     "output_type": "stream",
     "text": [
      "True\n",
      "False\n",
      "False\n",
      "True\n"
     ]
    }
   ],
   "source": [
    "\n",
    "def is_valid_variable(variable):\n",
    "    \n",
    "    return bool(re.match(r'^[a-zA-Z_]\\w*$', variable))\n",
    "\n",
    "\n",
    "print(is_valid_variable('first_name'))  \n",
    "print(is_valid_variable('first-name'))  \n",
    "print(is_valid_variable('1first_name')) \n",
    "print(is_valid_variable('firstname'))    \n"
   ]
  },
  {
   "cell_type": "markdown",
   "metadata": {},
   "source": [
    "#LEVEL 3"
   ]
  },
  {
   "cell_type": "code",
   "execution_count": 45,
   "metadata": {},
   "outputs": [
    {
     "name": "stdout",
     "output_type": "stream",
     "text": [
      "I am a teacher and I love teaching There is nothing as more rewarding as educating and empowering people I found teaching more interesting than any other jobs Does this motivate you to be a teacher\n",
      "Three most frequent words: [('I', 3), ('a', 2), ('teacher', 2)]\n"
     ]
    }
   ],
   "source": [
    "\n",
    "from collections import Counter\n",
    "\n",
    "def clean_text(text):\n",
    "    \n",
    "    cleaned_text = re.sub(r'[^a-zA-Z\\s]', '', text)\n",
    "    cleaned_text = re.sub(r'\\s+', ' ', cleaned_text)\n",
    "    return cleaned_text\n",
    "\n",
    "def most_frequent_words(text):\n",
    "    words = re.findall(r'\\b\\w+\\b', text)\n",
    "    word_counts = Counter(words)\n",
    "    return word_counts.most_common(3)\n",
    "\n",
    "sentence = '''%I $am@% a %tea@cher%, &and& I lo%#ve %tea@ching%;. There $is nothing; &as& mo@re rewarding as educa@ting &and& @emp%o@wering peo@ple. ;I found tea@ching m%o@re interesting tha@n any other %jo@bs. %Do@es thi%s mo@tivate yo@u to be a tea@cher!?'''\n",
    "\n",
    "cleaned_text = clean_text(sentence)\n",
    "print(cleaned_text)\n",
    "\n",
    "most_frequent = most_frequent_words(cleaned_text)\n",
    "print(\"Three most frequent words:\", most_frequent)\n"
   ]
  }
 ],
 "metadata": {
  "kernelspec": {
   "display_name": "ArewaDS",
   "language": "python",
   "name": "python3"
  },
  "language_info": {
   "codemirror_mode": {
    "name": "ipython",
    "version": 3
   },
   "file_extension": ".py",
   "mimetype": "text/x-python",
   "name": "python",
   "nbconvert_exporter": "python",
   "pygments_lexer": "ipython3",
   "version": "3.10.13"
  }
 },
 "nbformat": 4,
 "nbformat_minor": 2
}
