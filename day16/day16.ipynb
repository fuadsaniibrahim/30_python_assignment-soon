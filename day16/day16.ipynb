{
 "cells": [
  {
   "cell_type": "markdown",
   "metadata": {},
   "source": [
    "#DAY 16"
   ]
  },
  {
   "cell_type": "code",
   "execution_count": 10,
   "metadata": {},
   "outputs": [
    {
     "name": "stdout",
     "output_type": "stream",
     "text": [
      "the time is : 20:49:22\n",
      "\n",
      "the date is : 12/31/2023\n"
     ]
    }
   ],
   "source": [
    "from datetime import datetime\n",
    "\n",
    "now = datetime.now()\n",
    "\n",
    "day = now.day\n",
    "month = now.month\n",
    "year = now.year\n",
    "hour = now.hour\n",
    "minute = now.minute\n",
    "timestamp = now.timestamp()\n",
    "\n",
    "time = now.strftime(\"%H:%M:%S\") \n",
    "date = now.strftime(\"%m/%d/%Y\")\n",
    "print(f'the time is : {time}\\n')\n",
    "print(f'the date is : {date}')"
   ]
  },
  {
   "cell_type": "code",
   "execution_count": 12,
   "metadata": {},
   "outputs": [
    {
     "name": "stdout",
     "output_type": "stream",
     "text": [
      "Today is 31 December, 2023\n"
     ]
    }
   ],
   "source": [
    "day = now.strftime(\"%d\")\n",
    "month = now.strftime(\"%B\")\n",
    "year = now.strftime(\"%Y\")\n",
    "\n",
    "print(f\"Today is {day} {month}, {year}\")"
   ]
  },
  {
   "cell_type": "code",
   "execution_count": 24,
   "metadata": {},
   "outputs": [
    {
     "name": "stdout",
     "output_type": "stream",
     "text": [
      "the remaining time is 1 day, 0:00:00\n"
     ]
    }
   ],
   "source": [
    "from datetime import date\n",
    "a = date(year = 2024, month = 1, day = 1)\n",
    "b = date(year = 2023, month = 12, day = 31)\n",
    "c = a - b\n",
    "print(f\"the remaining time is {c}\")\n"
   ]
  },
  {
   "cell_type": "code",
   "execution_count": 25,
   "metadata": {},
   "outputs": [
    {
     "name": "stdout",
     "output_type": "stream",
     "text": [
      "the difference between 1970 and now is: 19722 days, 0:00:00\n"
     ]
    }
   ],
   "source": [
    "a = date(year = 1970, month = 1, day = 1)\n",
    "b = date(year = 2023, month = 12, day = 31)\n",
    "\n",
    "c = b - a\n",
    "print(f\"the difference between 1970 and now is: {c}\")"
   ]
  },
  {
   "cell_type": "markdown",
   "metadata": {},
   "source": [
    "## Use Cases for the datetime Module in Python\n",
    "\n",
    "1. **Date and Time Representation:**\n",
    "   - Creating, representing, and manipulating dates and times.\n",
    "   - Formatting dates and times for display.\n",
    "\n",
    "2. **Time Series Analysis:**\n",
    "   - Handling time-based data for time series analysis.\n",
    "   - Calculating time differences, durations, and intervals.\n",
    "\n",
    "3. **Timestamps:**\n",
    "   - Generating timestamps for activities in applications.\n",
    "   - Logging events with timestamps.\n",
    "   - Tracking when specific operations or events occurred.\n",
    "\n",
    "4. **Data Analysis:**\n",
    "   - Dealing with time-related aspects in data analysis, especially in fields like finance, economics, and statistics.\n",
    "\n",
    "5. **Database Operations:**\n",
    "   - Interacting with databases that store timestamped data.\n",
    "   - Querying and filtering data based on date and time.\n",
    "\n",
    "6. **Web Development:**\n",
    "   - Managing sessions and cookies, which often involve timestamps.\n",
    "   - Handling time-sensitive operations in web applications.\n",
    "\n",
    "7. **File Handling:**\n",
    "   - Working with files that include timestamps (e.g., file creation/modification times).\n",
    "   - Sorting and organizing files based on timestamps.\n",
    "\n",
    "8. **Scheduled Tasks:**\n",
    "   - Automating tasks based on specific date and time criteria.\n",
    "   - Scheduling and executing periodic events.\n",
    "\n",
    "9. **Blog Posts and Content Management:**\n",
    "   - Managing and displaying timestamps for blog posts and content.\n",
    "   - Sorting and organizing content chronologically.\n",
    "\n",
    "10. **Comparing and Manipulating Dates:**\n",
    "    - Determining the difference between two dates.\n",
    "    - Adding or subtracting time intervals.\n",
    "\n",
    "11. **Localization:**\n",
    "    - Dealing with time zones and localizing timestamps.\n",
    "\n"
   ]
  }
 ],
 "metadata": {
  "kernelspec": {
   "display_name": "ArewaDS",
   "language": "python",
   "name": "python3"
  },
  "language_info": {
   "codemirror_mode": {
    "name": "ipython",
    "version": 3
   },
   "file_extension": ".py",
   "mimetype": "text/x-python",
   "name": "python",
   "nbconvert_exporter": "python",
   "pygments_lexer": "ipython3",
   "version": "3.10.13"
  }
 },
 "nbformat": 4,
 "nbformat_minor": 2
}
