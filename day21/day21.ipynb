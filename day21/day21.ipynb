{
 "cells": [
  {
   "cell_type": "markdown",
   "metadata": {},
   "source": [
    "#LEVEL 1"
   ]
  },
  {
   "cell_type": "code",
   "execution_count": 7,
   "metadata": {},
   "outputs": [
    {
     "name": "stdout",
     "output_type": "stream",
     "text": [
      "Count: 25\n",
      "Sum:  744\n",
      "Min:  24\n",
      "Max:  38\n",
      "Range:  14\n",
      "Mean:  29.76\n",
      "Median:  29\n",
      "Mode:  {'mode': 26, 'count': 5}\n",
      "Standard Deviation:  4.188364836066696\n",
      "Variance:  17.5424\n",
      "Frequency Distribution:  [(26, 5), (27, 4), (32, 3), (37, 2), (34, 2), (33, 2), (31, 2), (24, 2), (38, 1), (29, 1), (25, 1)]\n"
     ]
    }
   ],
   "source": [
    "class Statistics:\n",
    "    def __init__(self, data):\n",
    "        self.data = data\n",
    "\n",
    "    def count(self):\n",
    "        return len(self.data)\n",
    "\n",
    "    def sum(self):\n",
    "        return sum(self.data)\n",
    "\n",
    "    def min(self):\n",
    "        return min(self.data)\n",
    "\n",
    "    def max(self):\n",
    "        return max(self.data)\n",
    "\n",
    "    def range(self):\n",
    "        return max(self.data) - min(self.data)\n",
    "\n",
    "    def mean(self):\n",
    "        return sum(self.data) / len(self.data)\n",
    "\n",
    "    def median(self):\n",
    "        sort = sorted(self.data)\n",
    "        n = len(sort)\n",
    "        mid = n // 2\n",
    "        if n % 2 == 0:\n",
    "            mid = (self.data[n - 1] + self.data[n]) / 2\n",
    "        else:\n",
    "            return sort[mid]\n",
    "\n",
    "    def mode(self):\n",
    "        freq = {value: self.data.count(value) for value in set(self.data)}\n",
    "        maxx = max(freq, key=freq.get)\n",
    "        return {'mode' : maxx ,'count': freq[maxx]}\n",
    "    def std(self):\n",
    "        mean_value = self.mean()\n",
    "        variance = sum((x - mean_value) ** 2 for x in self.data) / len(self.data)\n",
    "        return variance ** 0.5\n",
    "\n",
    "    def var(self):\n",
    "        mean_value = self.mean()\n",
    "        return sum((x - mean_value) ** 2 for x in self.data) / len(self.data)\n",
    "\n",
    "    def freq_dist(self):\n",
    "        freq_dict = {value: self.data.count(value) for value in set(self.data)}\n",
    "        return sorted(freq_dict.items(), key=lambda x: (x[1], x[0]), reverse=True)\n",
    "\n",
    "# Example usage:\n",
    "ages = [31, 26, 34, 37, 27, 26, 32, 32, 26, 27, 27, 24, 32, 33, 27, 25, 26, 38, 37, 31, 34, 24, 33, 29, 26]\n",
    "statistics_calculator = Statistics(ages)\n",
    "\n",
    "print('Count:', statistics_calculator.count())\n",
    "print('Sum: ', statistics_calculator.sum())\n",
    "print('Min: ', statistics_calculator.min())\n",
    "print('Max: ', statistics_calculator.max())\n",
    "print('Range: ', statistics_calculator.range())\n",
    "print('Mean: ', statistics_calculator.mean())\n",
    "print('Median: ', statistics_calculator.median())\n",
    "print('Mode: ', statistics_calculator.mode())\n",
    "print('Standard Deviation: ', statistics_calculator.std())\n",
    "print('Variance: ', statistics_calculator.var())\n",
    "print('Frequency Distribution: ', statistics_calculator.freq_dist())\n"
   ]
  },
  {
   "cell_type": "markdown",
   "metadata": {},
   "source": [
    "#LEVEL 2"
   ]
  },
  {
   "cell_type": "code",
   "execution_count": 11,
   "metadata": {},
   "outputs": [
    {
     "name": "stdout",
     "output_type": "stream",
     "text": [
      "Account Holder: Fuad Sani\n",
      "Total Income: 1200\n",
      "Total Expense: 350\n",
      "Account Balance: 850\n"
     ]
    }
   ],
   "source": [
    "class PersonAccount:\n",
    "    def __init__(self, firstname, lastname):\n",
    "        self.firstname = firstname\n",
    "        self.lastname = lastname\n",
    "        self.incomes = {}\n",
    "        self.expenses = {}\n",
    "\n",
    "    def add_income(self, amount, description):\n",
    "        self.incomes[description] = amount\n",
    "\n",
    "    def add_expense(self, amount, description):\n",
    "        self.expenses[description] = amount\n",
    "\n",
    "    def total_income(self):\n",
    "        return sum(self.incomes.values())\n",
    "\n",
    "    def total_expense(self):\n",
    "        return sum(self.expenses.values())\n",
    "\n",
    "    def account_info(self):\n",
    "        return f\"Account Holder: {self.firstname} {self.lastname}\\nTotal Income: {self.total_income()}\\nTotal Expense: {self.total_expense()}\"\n",
    "\n",
    "    def account_balance(self):\n",
    "        return self.total_income() - self.total_expense()\n",
    "\n",
    "\n",
    "person = PersonAccount(\"Fuad\", \"Sani\")\n",
    "person.add_income(1000, \"Salary\")\n",
    "person.add_income(200, \"Freelance\")\n",
    "person.add_expense(300, \"Rent\")\n",
    "person.add_expense(50, \"Utilities\")\n",
    "\n",
    "print(person.account_info())\n",
    "\n",
    "print(f\"Account Balance: {person.account_balance()}\")\n"
   ]
  }
 ],
 "metadata": {
  "kernelspec": {
   "display_name": "ArewaDS",
   "language": "python",
   "name": "python3"
  },
  "language_info": {
   "codemirror_mode": {
    "name": "ipython",
    "version": 3
   },
   "file_extension": ".py",
   "mimetype": "text/x-python",
   "name": "python",
   "nbconvert_exporter": "python",
   "pygments_lexer": "ipython3",
   "version": "3.10.13"
  }
 },
 "nbformat": 4,
 "nbformat_minor": 2
}
