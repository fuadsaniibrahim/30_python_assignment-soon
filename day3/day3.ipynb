{
 "cells": [
  {
   "cell_type": "markdown",
   "metadata": {},
   "source": [
    "#DAY 3"
   ]
  },
  {
   "cell_type": "code",
   "execution_count": 21,
   "metadata": {},
   "outputs": [],
   "source": [
    "import math"
   ]
  },
  {
   "cell_type": "code",
   "execution_count": 16,
   "metadata": {},
   "outputs": [],
   "source": [
    "age = 25\n",
    "height = 5.8\n",
    "complex_number = 3 + 4j"
   ]
  },
  {
   "cell_type": "code",
   "execution_count": 18,
   "metadata": {},
   "outputs": [
    {
     "name": "stdout",
     "output_type": "stream",
     "text": [
      "The area of the triangle is 10237.5\n"
     ]
    }
   ],
   "source": [
    "\n",
    "    base = float(input(\"Enter base: \"))\n",
    "    height_triangle = float(input(\"Enter height: \"))\n",
    "    area_triangle = 0.5 * base * height_triangle\n",
    "    print(f\"The area of the triangle is {area_triangle}\")\n",
    "\n"
   ]
  },
  {
   "cell_type": "code",
   "execution_count": 13,
   "metadata": {},
   "outputs": [
    {
     "name": "stdout",
     "output_type": "stream",
     "text": [
      "The perimeter of the triangle is 91.0\n"
     ]
    }
   ],
   "source": [
    "side_a = float(input(\"Enter side a: \"))\n",
    "side_b = float(input(\"Enter side b: \"))\n",
    "side_c = float(input(\"Enter side c: \"))\n",
    "perimeter_triangle = side_a + side_b + side_c\n",
    "print(f\"The perimeter of the triangle is {perimeter_triangle}\")\n"
   ]
  },
  {
   "cell_type": "code",
   "execution_count": 14,
   "metadata": {},
   "outputs": [
    {
     "name": "stdout",
     "output_type": "stream",
     "text": [
      "The area of the rectangle is 1462.0\n",
      "The perimeter of the rectangle is 154.0\n"
     ]
    }
   ],
   "source": [
    "length = float(input(\"Enter length of rectangle: \"))\n",
    "width = float(input(\"Enter width of rectangle: \"))\n",
    "area_rectangle = length * width\n",
    "perimeter_rectangle = 2 * (length + width)\n",
    "print(f\"The area of the rectangle is {area_rectangle}\")\n",
    "print(f\"The perimeter of the rectangle is {perimeter_rectangle}\")"
   ]
  },
  {
   "cell_type": "code",
   "execution_count": 22,
   "metadata": {},
   "outputs": [
    {
     "name": "stdout",
     "output_type": "stream",
     "text": [
      "The area of the circle is 5808.804816487527\n",
      "The circumference of the circle is 270.1769682087222\n"
     ]
    }
   ],
   "source": [
    "radius_circle = float(input(\"Enter radius of circle: \"))\n",
    "area_circle = math.pi * (radius_circle ** 2)\n",
    "circumference_circle = 2 * math.pi * radius_circle\n",
    "print(f\"The area of the circle is {area_circle}\")\n",
    "print(f\"The circumference of the circle is {circumference_circle}\")\n"
   ]
  },
  {
   "cell_type": "code",
   "execution_count": 25,
   "metadata": {},
   "outputs": [
    {
     "name": "stdout",
     "output_type": "stream",
     "text": [
      "Slope: 2\n",
      "X-intercept: (1.0, 0)\n",
      "Y-intercept: (0, -2)\n"
     ]
    }
   ],
   "source": [
    "slope = 2 \n",
    "y_intercept = -2 \n",
    "x_intercept = -y_intercept / slope\n",
    "\n",
    "print(f\"Slope: {slope}\")\n",
    "print(f\"X-intercept: ({x_intercept}, 0)\")\n",
    "print(f\"Y-intercept: (0, {y_intercept})\")"
   ]
  },
  {
   "cell_type": "code",
   "execution_count": 26,
   "metadata": {},
   "outputs": [
    {
     "name": "stdout",
     "output_type": "stream",
     "text": [
      "Slope: 2\n",
      "Euclidean Distance: 8.94427190999916\n"
     ]
    }
   ],
   "source": [
    "x1, y1 = 2, 2\n",
    "x2, y2 = 6, 10\n",
    "\n",
    "slope2 = (y2 - y1) / (x2 - x1)\n",
    "\n",
    "distance = ((x2 - x1)**2 + (y2 - y1)**2)**0.5\n",
    "\n",
    "print(f\"Slope: {slope}\")\n",
    "print(f\"Euclidean Distance: {distance}\")\n"
   ]
  },
  {
   "cell_type": "code",
   "execution_count": 27,
   "metadata": {},
   "outputs": [
    {
     "name": "stdout",
     "output_type": "stream",
     "text": [
      "The slopes are equal.\n"
     ]
    }
   ],
   "source": [
    "if slope == slope2:\n",
    "    print(\"The slopes are equal.\")\n",
    "else:\n",
    "    print(\"The slopes are not equal.\")\n"
   ]
  },
  {
   "cell_type": "code",
   "execution_count": 29,
   "metadata": {},
   "outputs": [
    {
     "name": "stdout",
     "output_type": "stream",
     "text": [
      "X values where y is 0: [-3]\n"
     ]
    }
   ],
   "source": [
    "\n",
    "def calculate_y(x):\n",
    "    return x**2 + 6*x + 9\n",
    "\n",
    "x_values_for_zero_y = [x for x in range(-10, 11) if calculate_y(x) == 0]\n",
    "\n",
    "print(\"X values where y is 0:\", x_values_for_zero_y)\n"
   ]
  },
  {
   "cell_type": "code",
   "execution_count": 30,
   "metadata": {},
   "outputs": [
    {
     "name": "stdout",
     "output_type": "stream",
     "text": [
      "Length of 'python' is equal to length of 'dragon'.\n"
     ]
    }
   ],
   "source": [
    "length_python = len('python')\n",
    "length_dragon = len('dragon')\n",
    "\n",
    "if length_python == length_dragon:\n",
    "    print(\"Length of 'python' is equal to length of 'dragon'.\")\n",
    "else:\n",
    "    print(\"Length of 'python' is not equal to length of 'dragon'.\")\n"
   ]
  },
  {
   "cell_type": "code",
   "execution_count": 31,
   "metadata": {},
   "outputs": [
    {
     "name": "stdout",
     "output_type": "stream",
     "text": [
      "'on' is found in both 'python' and 'dragon'.\n"
     ]
    }
   ],
   "source": [
    "if 'on' in 'python' and 'on' in 'dragon':\n",
    "    print(\"'on' is found in both 'python' and 'dragon'.\")\n",
    "else:\n",
    "    print(\"'on' is not found in both 'python' and 'dragon'.\")\n"
   ]
  },
  {
   "cell_type": "code",
   "execution_count": 32,
   "metadata": {},
   "outputs": [
    {
     "name": "stdout",
     "output_type": "stream",
     "text": [
      "The word 'jargon' is in the sentence.\n"
     ]
    }
   ],
   "source": [
    "sentence = \"I hope this course is not full of jargon.\"\n",
    "\n",
    "if 'jargon' in sentence:\n",
    "    print(\"The word 'jargon' is in the sentence.\")\n",
    "else:\n",
    "    print(\"The word 'jargon' is not in the sentence.\")\n"
   ]
  },
  {
   "cell_type": "code",
   "execution_count": 34,
   "metadata": {},
   "outputs": [
    {
     "name": "stdout",
     "output_type": "stream",
     "text": [
      "6.0\n",
      "6.0\n"
     ]
    }
   ],
   "source": [
    "length_python = len('python')\n",
    "float_length_python = float(length_python)\n",
    "str_length_python = str(float_length_python)\n",
    "print(float_length_python)\n",
    "print(str_length_python)"
   ]
  },
  {
   "cell_type": "code",
   "execution_count": 36,
   "metadata": {},
   "outputs": [
    {
     "name": "stdout",
     "output_type": "stream",
     "text": [
      "8 is an even number.\n"
     ]
    }
   ],
   "source": [
    "\n",
    "num = 8\n",
    "\n",
    "if(num % 2 == 0):\n",
    "    print(f\"{num} is an even number.\")\n",
    "else:\n",
    "    print(f\"{num} is not an even number.\")\n"
   ]
  },
  {
   "cell_type": "code",
   "execution_count": 39,
   "metadata": {},
   "outputs": [
    {
     "name": "stdout",
     "output_type": "stream",
     "text": [
      "The floor division of 7 by 3 is equal to the int converted value of 2.7.\n",
      "2\n"
     ]
    }
   ],
   "source": [
    "if 7 // 3 == int(2.7):\n",
    "    print(\"The floor division of 7 by 3 is equal to the int converted value of 2.7.\")\n",
    "else:\n",
    "     print(\"The floor division of 7 by 3 is not equal to the int converted value of 2.7.\")\n",
    "\n",
    "\n"
   ]
  },
  {
   "cell_type": "code",
   "execution_count": 42,
   "metadata": {},
   "outputs": [
    {
     "name": "stdout",
     "output_type": "stream",
     "text": [
      "The types of '10' and 10 are not equal.\n",
      "<class 'str'> <class 'int'>\n"
     ]
    }
   ],
   "source": [
    "if type('10') == type(10):\n",
    "    print(\"The types of '10' and 10 are equal.\")\n",
    "else:\n",
    "    print(\"The types of '10' and 10 are not equal.\")\n"
   ]
  },
  {
   "cell_type": "code",
   "execution_count": 47,
   "metadata": {},
   "outputs": [
    {
     "name": "stdout",
     "output_type": "stream",
     "text": [
      "Could not convert '9.8' to int.\n"
     ]
    }
   ],
   "source": [
    "try:\n",
    "    if int('9.8') == 10:\n",
    "        print(\"Conversion successful and equal to 10.\")\n",
    "except ValueError:\n",
    "    print(\"Could not convert '9.8' to int.\")\n",
    "\n",
    "\n"
   ]
  },
  {
   "cell_type": "code",
   "execution_count": 48,
   "metadata": {},
   "outputs": [
    {
     "name": "stdout",
     "output_type": "stream",
     "text": [
      "Your weekly earning is 1892.0\n"
     ]
    }
   ],
   "source": [
    "hours_worked = float(input(\"Enter hours worked: \"))\n",
    "rate_per_hour = float(input(\"Enter rate per hour: \"))\n",
    "weekly_earning = hours_worked * rate_per_hour\n",
    "print(f\"Your weekly earning is {weekly_earning}\")\n"
   ]
  },
  {
   "cell_type": "code",
   "execution_count": 50,
   "metadata": {},
   "outputs": [
    {
     "name": "stdout",
     "output_type": "stream",
     "text": [
      "You have lived for 13718160000 seconds.\n"
     ]
    }
   ],
   "source": [
    "years= int(input(\"Enter number of years you have lived: \"))\n",
    "seconds = years * 365 * 24 * 60 * 60\n",
    "print(f\"You have lived for {seconds} seconds.\")\n"
   ]
  },
  {
   "cell_type": "code",
   "execution_count": 51,
   "metadata": {},
   "outputs": [
    {
     "name": "stdout",
     "output_type": "stream",
     "text": [
      "Displaying the table:\n",
      "1 1 1 1 1\n",
      "2 1 2 4 8\n",
      "3 1 3 9 27\n",
      "4 1 4 16 64\n",
      "5 1 5 25 125\n"
     ]
    }
   ],
   "source": [
    "print(\"Displaying the table:\")\n",
    "for i in range(1, 6):\n",
    "    print(f\"{i} {1} {i} {i*i} {i*i*i}\")\n"
   ]
  }
 ],
 "metadata": {
  "kernelspec": {
   "display_name": "ArewaDS",
   "language": "python",
   "name": "python3"
  },
  "language_info": {
   "codemirror_mode": {
    "name": "ipython",
    "version": 3
   },
   "file_extension": ".py",
   "mimetype": "text/x-python",
   "name": "python",
   "nbconvert_exporter": "python",
   "pygments_lexer": "ipython3",
   "version": "3.10.13"
  }
 },
 "nbformat": 4,
 "nbformat_minor": 2
}
