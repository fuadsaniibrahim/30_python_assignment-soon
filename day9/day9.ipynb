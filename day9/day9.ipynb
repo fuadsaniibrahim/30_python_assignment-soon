{
 "cells": [
  {
   "cell_type": "markdown",
   "metadata": {},
   "source": [
    "#LEVEL1"
   ]
  },
  {
   "cell_type": "code",
   "execution_count": 2,
   "metadata": {},
   "outputs": [
    {
     "name": "stdout",
     "output_type": "stream",
     "text": [
      "You need 15 more years to learn to drive.\n"
     ]
    }
   ],
   "source": [
    "user_age = int(input(\"Enter your age: \"))\n",
    "if user_age >= 18:\n",
    "    print(\"You are old enough to learn to drive.\")\n",
    "else:\n",
    "    remaining_years = 18 - user_age\n",
    "    print(f\"You need {remaining_years} more years to learn to drive.\")\n"
   ]
  },
  {
   "cell_type": "code",
   "execution_count": 6,
   "metadata": {},
   "outputs": [
    {
     "name": "stdout",
     "output_type": "stream",
     "text": [
      "i am 22 years older than you\n"
     ]
    }
   ],
   "source": [
    "my_age = int(input(\"enter age\"))\n",
    "your_age = int(input(\"enter your age\"))\n",
    "\n",
    "if my_age == your_age:\n",
    "    print(\"same age\")\n",
    "elif my_age > your_age:\n",
    "    dif = my_age - your_age\n",
    "    if dif == 1:\n",
    "        print(\"i am 1 year older than you \")\n",
    "    else:\n",
    "        print(f\"i am {dif} years older than you\")\n",
    "else:\n",
    "    dif = your_age - my_age\n",
    "    if dif == 1:\n",
    "        print(\"you are 1 year older than me \")\n",
    "    else:\n",
    "        print(f\"you are {dif} years older than me\")"
   ]
  },
  {
   "cell_type": "code",
   "execution_count": 7,
   "metadata": {},
   "outputs": [
    {
     "name": "stdout",
     "output_type": "stream",
     "text": [
      "2 is greater than 1\n"
     ]
    }
   ],
   "source": [
    "a = int(input(\"enter value for A\"))\n",
    "b = int(input(\"enter value for B\"))\n",
    "\n",
    "if a > b:\n",
    "    print(f\"{a} is greater than {b}\")\n",
    "elif b > a:\n",
    "    print(f\"{b} is greater than {a}\")"
   ]
  },
  {
   "cell_type": "markdown",
   "metadata": {},
   "source": [
    "#LEVEL2"
   ]
  },
  {
   "cell_type": "code",
   "execution_count": 9,
   "metadata": {},
   "outputs": [
    {
     "name": "stdout",
     "output_type": "stream",
     "text": [
      "it has to be between 0 and 100\n"
     ]
    }
   ],
   "source": [
    "grade = int(input(\"enter your marks\"))\n",
    "if grade > 100 or grade < 0:\n",
    "    print('it has to be between 0 and 100')\n",
    "\n",
    "else:\n",
    "   if grade > 90:\n",
    "    print(f\"{grade} = A\")\n",
    "   elif grade > 70 and grade <= 89:\n",
    "    print(f\"{grade} = B\")\n",
    "   elif grade > 60 and grade <= 69:\n",
    "    print(f\"{grade} = C\")\n",
    "   elif grade > 50 and grade <= 59:\n",
    "    print(f\"{grade} = D\")\n",
    "   else:\n",
    "    print(f\"{grade} = F\")"
   ]
  },
  {
   "cell_type": "code",
   "execution_count": 10,
   "metadata": {},
   "outputs": [
    {
     "name": "stdout",
     "output_type": "stream",
     "text": [
      "The season is Autumn.\n"
     ]
    }
   ],
   "source": [
    "month = input(\"Enter a month: \").lower()\n",
    "if month in ['september', 'october', 'november']:\n",
    "    print(\"The season is Autumn.\")\n",
    "elif month in ['december', 'january', 'february']:\n",
    "    print(\"The season is Winter.\")\n",
    "elif month in ['march', 'april', 'may']:\n",
    "    print(\"The season is Spring.\")\n",
    "elif month in ['june', 'july', 'august']:\n",
    "    print(\"The season is Summer.\")\n",
    "else:\n",
    "    print(\"Invalid input.\")\n"
   ]
  },
  {
   "cell_type": "code",
   "execution_count": 12,
   "metadata": {},
   "outputs": [
    {
     "name": "stdout",
     "output_type": "stream",
     "text": [
      "['banana', 'orange', 'mango', 'lemon', 'apple']\n"
     ]
    }
   ],
   "source": [
    "fruits = ['banana', 'orange', 'mango', 'lemon']\n",
    "N = input('enter a fruit').lower()\n",
    "\n",
    "if N in fruits:\n",
    "    print(f'{N} already exist in the list')\n",
    "else:\n",
    "    fruits.append(N)\n",
    "    print(fruits)"
   ]
  },
  {
   "cell_type": "markdown",
   "metadata": {},
   "source": [
    "#LEVEL 3"
   ]
  },
  {
   "cell_type": "code",
   "execution_count": 51,
   "metadata": {},
   "outputs": [],
   "source": [
    " person={\n",
    "    'first_name': 'Asabeneh',\n",
    "    'last_name': 'Yetayeh',\n",
    "    'age': 250,\n",
    "    'country': 'Finland',\n",
    "    'is_marred': True,\n",
    "    'skills': ['JavaScript', 'React', 'Node', 'MongoDB', 'Python'],\n",
    "    'address': {\n",
    "        'street': 'Space street',\n",
    "        'zipcode': '02210'\n",
    "    }\n",
    "    }\n"
   ]
  },
  {
   "cell_type": "code",
   "execution_count": 40,
   "metadata": {},
   "outputs": [
    {
     "name": "stdout",
     "output_type": "stream",
     "text": [
      "Node\n",
      "['JavaScript', 'React', 'Node', 'MongoDB', 'Python']\n"
     ]
    }
   ],
   "source": [
    "if 'skills' in person:\n",
    "    mid = person['skills']\n",
    "    middle = len(mid) // 2\n",
    "    mid_item = person['skills'][middle] if len(mid) % 2 != 0 else (mid[middle - 1] ,mid[middle ])\n",
    "    print(mid_item)\n",
    "    print(person['skills'])"
   ]
  },
  {
   "cell_type": "code",
   "execution_count": 44,
   "metadata": {},
   "outputs": [
    {
     "name": "stdout",
     "output_type": "stream",
     "text": [
      "False\n"
     ]
    }
   ],
   "source": [
    "if 'skills' in person:\n",
    "    print('Python' in person['skills'])"
   ]
  },
  {
   "cell_type": "code",
   "execution_count": 52,
   "metadata": {},
   "outputs": [
    {
     "name": "stdout",
     "output_type": "stream",
     "text": [
      "He is a backend developer\n"
     ]
    }
   ],
   "source": [
    "m = person['skills']\n",
    "if m == ['JavaScript', 'React'] or m == ['React','JavaScript']:\n",
    "    print('He is a front end developer')\n",
    "elif 'Node' and 'Python' and 'MongoDB' in m:\n",
    "    print('He is a backend developer')\n",
    "elif 'React' and 'Node' and 'MongoDB' in m:\n",
    "    print('He is a fullstack developer')\n",
    "else:\n",
    "    print('unknown title')"
   ]
  },
  {
   "cell_type": "code",
   "execution_count": 53,
   "metadata": {},
   "outputs": [
    {
     "name": "stdout",
     "output_type": "stream",
     "text": [
      "Asabeneh Yetayeh lives in Finland. He is marrried.\n"
     ]
    }
   ],
   "source": [
    "a = person['is_marred']\n",
    "b = person['country']\n",
    "\n",
    "if a == True and b == 'Finland':\n",
    "    print(f\"{person['first_name']} {person['last_name']} lives in {b}. He is marrried.\")"
   ]
  }
 ],
 "metadata": {
  "kernelspec": {
   "display_name": "ArewaDS",
   "language": "python",
   "name": "python3"
  },
  "language_info": {
   "codemirror_mode": {
    "name": "ipython",
    "version": 3
   },
   "file_extension": ".py",
   "mimetype": "text/x-python",
   "name": "python",
   "nbconvert_exporter": "python",
   "pygments_lexer": "ipython3",
   "version": "3.10.13"
  }
 },
 "nbformat": 4,
 "nbformat_minor": 2
}
