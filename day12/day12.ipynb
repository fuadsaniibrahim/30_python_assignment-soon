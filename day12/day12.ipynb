{
 "cells": [
  {
   "cell_type": "markdown",
   "metadata": {},
   "source": [
    "#LEVEL 1"
   ]
  },
  {
   "cell_type": "code",
   "execution_count": 47,
   "metadata": {},
   "outputs": [
    {
     "name": "stdout",
     "output_type": "stream",
     "text": [
      "m0yrjt\n"
     ]
    }
   ],
   "source": [
    "import random\n",
    "import string\n",
    "\n",
    "def random_user_id():\n",
    "    \n",
    "    return ''.join(random.choices(string.ascii_lowercase + string.digits, k=6))\n",
    "\n",
    "\n",
    "print(random_user_id())\n"
   ]
  },
  {
   "cell_type": "code",
   "execution_count": 34,
   "metadata": {},
   "outputs": [
    {
     "name": "stdout",
     "output_type": "stream",
     "text": [
      "l91rk\n",
      "a3ucd\n",
      "0hpab\n",
      "588be\n",
      "28eh2\n",
      "None\n"
     ]
    }
   ],
   "source": [
    "def user_id_gen_by_user():\n",
    "    char_num = int(input('enter number of characters'))\n",
    "    id_num = int(input('enter number of ID\\'s to be printed'))\n",
    "\n",
    "    for i in range(id_num):\n",
    "        b = ''.join(random.choices(string.ascii_lowercase + string.digits , k = char_num))\n",
    "        print(b)\n",
    "print(user_id_gen_by_user())"
   ]
  },
  {
   "cell_type": "code",
   "execution_count": 35,
   "metadata": {},
   "outputs": [
    {
     "name": "stdout",
     "output_type": "stream",
     "text": [
      "za7pbuyrf730lb63\n",
      "kqrt7jsph2fsekdg\n",
      "ruzmti203p8mezhz\n",
      "l9u5ecul6sgdo9x1\n",
      "ago3v41yy5w6bby7\n",
      "None\n"
     ]
    }
   ],
   "source": [
    "print(user_id_gen_by_user())"
   ]
  },
  {
   "cell_type": "code",
   "execution_count": 77,
   "metadata": {},
   "outputs": [
    {
     "name": "stdout",
     "output_type": "stream",
     "text": [
      "rgb(211,63,189)\n"
     ]
    }
   ],
   "source": [
    "def rgb_color_gen():\n",
    "     r= random.randint(0,255)\n",
    "     g = random.randint(0,255)\n",
    "     b = random.randint(0,255)\n",
    "     print(f'rgb({r},{g},{b})')\n",
    "    \n",
    "\n",
    "    \n",
    "rgb_color_gen()"
   ]
  },
  {
   "cell_type": "markdown",
   "metadata": {},
   "source": [
    "#LEVEL 2"
   ]
  },
  {
   "cell_type": "code",
   "execution_count": 67,
   "metadata": {},
   "outputs": [
    {
     "name": "stdout",
     "output_type": "stream",
     "text": [
      "['#55ab2b', '#f28c72', '#16c993']\n"
     ]
    }
   ],
   "source": [
    "def list_of_hexa_colors(n):\n",
    "    return ['#' + ''.join(random.choices('0123456789abcdef', k = 6)) for i in range(n)]\n",
    "\n",
    "print(list_of_hexa_colors(3))"
   ]
  },
  {
   "cell_type": "code",
   "execution_count": 84,
   "metadata": {},
   "outputs": [
    {
     "name": "stdout",
     "output_type": "stream",
     "text": [
      "rgb(98,105,158)\n",
      "rgb(10,195,94)\n",
      "rgb(69,195,204)\n",
      "rgb(107,119,159)\n",
      "rgb(17,182,207)\n",
      "rgb(100,175,215)\n",
      "None\n"
     ]
    }
   ],
   "source": [
    "def list_of_rgb_colors(number):\n",
    "    for j in range(number):\n",
    "        rgb_color_gen()\n",
    "\n",
    "print(list_of_rgb_colors(6))"
   ]
  },
  {
   "cell_type": "code",
   "execution_count": 85,
   "metadata": {},
   "outputs": [
    {
     "name": "stdout",
     "output_type": "stream",
     "text": [
      "['#4828b9', '#ece305', '#196f25']\n",
      "['#2da6e4']\n",
      "rgb(45,189,206)\n",
      "rgb(145,198,53)\n",
      "rgb(207,201,121)\n",
      "None\n",
      "rgb(41,255,44)\n",
      "None\n"
     ]
    }
   ],
   "source": [
    "def generate_colors(c_type,num):\n",
    "    if c_type == 'hexa':\n",
    "       return list_of_hexa_colors(num)\n",
    "    elif c_type == 'rgb':\n",
    "        return list_of_rgb_colors(num)\n",
    "    else:\n",
    "        return []\n",
    "    \n",
    "\n",
    "print(generate_colors('hexa', 3))\n",
    "print(generate_colors('hexa', 1))\n",
    "print(generate_colors('rgb', 3))\n",
    "print(generate_colors('rgb', 1))\n",
    "\n"
   ]
  },
  {
   "cell_type": "markdown",
   "metadata": {},
   "source": [
    "#LEVEL 3"
   ]
  },
  {
   "cell_type": "code",
   "execution_count": 88,
   "metadata": {},
   "outputs": [
    {
     "data": {
      "text/plain": [
       "[6, 8, 4, 0, 2, 9, 1, 7, 3, 5]"
      ]
     },
     "execution_count": 88,
     "metadata": {},
     "output_type": "execute_result"
    }
   ],
   "source": [
    "def shuffle_list(list):\n",
    "    random.shuffle(list)\n",
    "    return list\n",
    "\n",
    "shuffle_list([1,2,3,4,5,6,7,8,9,0])\n",
    "\n",
    "    "
   ]
  },
  {
   "cell_type": "code",
   "execution_count": 91,
   "metadata": {},
   "outputs": [
    {
     "name": "stdout",
     "output_type": "stream",
     "text": [
      "[7, 1, 4, 5, 3, 6, 8]\n"
     ]
    }
   ],
   "source": [
    "def unique_numbers():\n",
    "    return random.sample(range(10), 7)\n",
    "\n",
    "print(unique_numbers())"
   ]
  }
 ],
 "metadata": {
  "kernelspec": {
   "display_name": "ArewaDS",
   "language": "python",
   "name": "python3"
  },
  "language_info": {
   "codemirror_mode": {
    "name": "ipython",
    "version": 3
   },
   "file_extension": ".py",
   "mimetype": "text/x-python",
   "name": "python",
   "nbconvert_exporter": "python",
   "pygments_lexer": "ipython3",
   "version": "3.10.13"
  }
 },
 "nbformat": 4,
 "nbformat_minor": 2
}
